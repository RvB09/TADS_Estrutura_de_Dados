{
 "cells": [
  {
   "cell_type": "markdown",
   "metadata": {},
   "source": [
    "# Lista Linear\n",
    "\n",
    "### Implementação \n",
    "\n",
    "- Inserção\n",
    "- Remoção \n",
    "- Exibição \n",
    "- Atualização"
   ]
  },
  {
   "cell_type": "code",
   "execution_count": null,
   "metadata": {},
   "outputs": [],
   "source": [
    "soma = 0\n",
    "for i in range(1, 11):  # range(1, 11) vai de 1 a 10 (inclusive)\n",
    "    print(i)\n",
    "    soma = soma + i\n",
    "# print(\"Soma:\", soma)\n",
    "print(\"Soma:{}\". format(soma))\n",
    "\n",
    "\n",
    "print(\"Soma:{soma}\")  # verificar este modelo, não acertei"
   ]
  },
  {
   "cell_type": "code",
   "execution_count": 92,
   "metadata": {},
   "outputs": [
    {
     "data": {
      "text/plain": [
       "[None, None, None, None, None, None, None, None, None, None]"
      ]
     },
     "execution_count": 92,
     "metadata": {},
     "output_type": "execute_result"
    }
   ],
   "source": [
    "# Criar uma lista vazia\n",
    "#lista = []\n",
    "\n",
    "\n",
    "# Criando uma lista com 10 posições vazias\n",
    "lista = [None] * 10\n",
    "\n",
    "lista"
   ]
  },
  {
   "cell_type": "code",
   "execution_count": 97,
   "metadata": {},
   "outputs": [
    {
     "name": "stdout",
     "output_type": "stream",
     "text": [
      "4\n"
     ]
    },
    {
     "data": {
      "text/plain": [
       "[10, 20, 30, 5, None, None, None, None, None, None]"
      ]
     },
     "execution_count": 97,
     "metadata": {},
     "output_type": "execute_result"
    }
   ],
   "source": [
    "def contar_elementos(lista):\n",
    "    return len([elemento for elemento in lista if elemento is not None])\n",
    "\n",
    "print(contar_elementos(lista))\n",
    "\n",
    "lista"
   ]
  },
  {
   "cell_type": "code",
   "execution_count": 38,
   "metadata": {},
   "outputs": [],
   "source": [
    "# Método de inserção no final da lista\n",
    "def inserir_final(lista, valor):\n",
    "    if lista[-1] != None:\n",
    "        print(\"A lista está cheia!\")\n",
    "    else:\n",
    "        # Procurar a posição não ocupada\n",
    "        i = 0 \n",
    "        while lista[i] != None: \n",
    "            # i += 1\n",
    "            i = i + 1\n",
    "        lista[i] = valor"
   ]
  },
  {
   "cell_type": "code",
   "execution_count": null,
   "metadata": {},
   "outputs": [],
   "source": [
    "# Método de inserção no início da lista\n",
    "def inserir_inicio(lista, valor):\n",
    "    if lista[-1] != None:\n",
    "        print(\"A lista está cheia!\")\n",
    "    else:\n",
    "        # Deslocar os elementos para uma posição à direita\n",
    "        for i in range(len(lista)-1, 0, -1):\n",
    "            # print(f\"[i]: {i} [i - 1]: {i -1}\")\n",
    "            lista[i] = lista[i - 1]\n",
    "        lista[0] = valor\n",
    "\n",
    "# Método de inserção no final da lista (final do conteudo util, ou seja, ultima com conteudo)\n",
    "def inserir_final(lista, valor):\n",
    "    if lista[-1] != None:\n",
    "        print(\"A lista está cheia!\")\n",
    "    else:\n",
    "        # Procurar a posição não ocupada\n",
    "        i = 0 \n",
    "        while lista[i] != None: \n",
    "            # i += 1\n",
    "            i = i + 1\n",
    "        lista[i] = valor\n",
    "# Método de inserir em uma posição específica\n",
    "def inserir_em_posicao_especifica(lista, valor, posicao):\n",
    "    if lista[-1] != None:\n",
    "        print(\"A lista está cheia!\")\n",
    "    else:\n",
    "        # Descolar os elementos uma casa para a direita\n",
    "        # desde a posição que será preenchida\n",
    "        for i in range(len(lista)-1, posicao, -1):\n",
    "            lista[i] = lista[i - 1]\n",
    "        lista[posicao] = valor\n",
    " \n",
    "# Método de remover do início \n",
    "def remover_inicio(lista):\n",
    "    # Teste da lista vazia\n",
    "    if lista[0] == None:\n",
    "        print(\"A lista está vazia\")\n",
    "    else:\n",
    "        elemento = lista[0]\n",
    "        for i in range(1, len(lista)):\n",
    "            lista[i - 1] = lista[i]\n",
    "        lista[-1] = None\n",
    "        return elemento\n",
    "\n",
    "# Método de remover do final \n",
    "def remover_final(lista):\n",
    "    # Teste da lista vazia\n",
    "    if lista[0] == None:\n",
    "        print(\"A lista está vazia\")\n",
    "    else:\n",
    "        # Procurando a posicação final preenchida \n",
    "        i = 0\n",
    "        while lista[i] != None:\n",
    "            i += 1\n",
    "        \n",
    "        elemento = lista[i - 1]\n",
    "        lista[i - 1] = None\n",
    "        return elemento\n",
    "\n",
    "# Método de remover de uma posição específica\n",
    "def remover_de_posicao_especifica(lista, posicao):\n",
    "    # Teste da lista vazia\n",
    "    if lista[0] == None:\n",
    "        print(\"A lista está vazia\")\n",
    "    else:\n",
    "        elemento = lista[posicao]\n",
    "        # Deslocamento dos elementos para organizar a lista\n",
    "        for i in range(posicao, len(lista) - 1):\n",
    "            lista[i] = lista[i + 1]\n",
    "        lista[-1] = None\n",
    "        return elemento\n",
    "\n",
    "# Método de acessar um elemento especificado pela posição\n",
    "def acessar_elemento_pela_posicao(lista, posicao):\n",
    "    # Verifica se a posição é válida para a lista\n",
    "    if posicao < 0 or posicao > len(lista)-1:\n",
    "        print(\"Posição Inválida.\")\n",
    "    else:\n",
    "        return lista[posicao]\n",
    "\n",
    "# Método para atualizar um elemento na lista pela posição\n",
    "def atualizar_elemento(lista, valor, posicao):\n",
    "    # Verifica se a posição é válida para a lista\n",
    "    if posicao < 0 or posicao > len(lista)-1:\n",
    "        print(\"Posição Inválida.\")\n",
    "    else:\n",
    "        lista[posicao] = valor"
   ]
  },
  {
   "cell_type": "code",
   "execution_count": 6,
   "metadata": {},
   "outputs": [
    {
     "data": {
      "text/plain": [
       "[None, 20, None, None, None, None, None, None, None, None]"
      ]
     },
     "execution_count": 7,
     "metadata": {},
     "output_type": "execute_result"
    }
   ],
   "source": [
    "# inserir_inicio(lista, 30)\n",
    "# inserir_final(lista, 5)\n",
    "# inserir_em_posicao_especifica(lista, 11, 2)\n",
    "# removido = remover_inicio(lista)\n",
    "# removido = remover_final(lista)\n",
    "# removido = remover_de_posicao_especifica(lista, 3)\n",
    "# elemento = acessar_elemento_pela_posicao(lista, 1)\n",
    "atualizar_elemento(lista, 20, 1)\n",
    "lista"
   ]
  },
  {
   "cell_type": "code",
   "execution_count": null,
   "metadata": {},
   "outputs": [],
   "source": []
  }
 ],
 "metadata": {
  "kernelspec": {
   "display_name": "Python 3",
   "language": "python",
   "name": "python3"
  },
  "language_info": {
   "codemirror_mode": {
    "name": "ipython",
    "version": 3
   },
   "file_extension": ".py",
   "mimetype": "text/x-python",
   "name": "python",
   "nbconvert_exporter": "python",
   "pygments_lexer": "ipython3",
   "version": "3.13.2"
  }
 },
 "nbformat": 4,
 "nbformat_minor": 2
}
